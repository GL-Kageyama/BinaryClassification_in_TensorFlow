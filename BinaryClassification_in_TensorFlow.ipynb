{
 "cells": [
  {
   "cell_type": "code",
   "execution_count": 1,
   "metadata": {},
   "outputs": [],
   "source": [
    "# The API of tensorflow has been significantly changed in 2.0.\n",
    "# For this reason, we use 1.14 this time.\n",
    "# Please use the following command when you want to re-install tensorflow.\n",
    "# =====================================================\n",
    "# pip uninstall tensorflow -y\n",
    "# pip install tensorflow==1.14"
   ]
  },
  {
   "cell_type": "code",
   "execution_count": 3,
   "metadata": {},
   "outputs": [],
   "source": [
    "import tensorflow as tf\n",
    "import numpy as np\n",
    "import matplotlib.pyplot as plt \n",
    "%matplotlib inline"
   ]
  },
  {
   "cell_type": "code",
   "execution_count": 4,
   "metadata": {},
   "outputs": [
    {
     "name": "stdout",
     "output_type": "stream",
     "text": [
      "1.14.0\n"
     ]
    }
   ],
   "source": [
    "print(tf.__version__)"
   ]
  },
  {
   "cell_type": "code",
   "execution_count": 5,
   "metadata": {},
   "outputs": [],
   "source": [
    "# x=4, y=3, standard deviation=2, number of plots=1000\n",
    "x1 = np.random.normal(4, 2, 1000)\n",
    "y1 = np.random.normal(3, 2, 1000)\n",
    "\n",
    "# x=10, y=8, standard deviation=2, number of plots=1000\n",
    "x2 = np.random.normal(10, 2, 1000)\n",
    "y2 = np.random.normal(8, 2, 1000)\n",
    "\n",
    "x_sum = np.append(x1, x2)\n",
    "y_sum = np.append(y1, y2)\n",
    "\n",
    "t = np.asarray([0.] * len(x1) + [1.] * len(x2))"
   ]
  },
  {
   "cell_type": "code",
   "execution_count": 6,
   "metadata": {},
   "outputs": [
    {
     "data": {
      "text/plain": [
       "<function matplotlib.pyplot.show(*args, **kw)>"
      ]
     },
     "execution_count": 6,
     "metadata": {},
     "output_type": "execute_result"
    },
    {
     "data": {
      "image/png": "[encoded data removed]",
      "text/plain": [
       "<Figure size 432x288 with 1 Axes>"
      ]
     },
     "metadata": {
      "needs_background": "light"
     },
     "output_type": "display_data"
    }
   ],
   "source": [
    "plt.plot(x1, y1, '.', color='blue', markersize=2)\n",
    "plt.plot(x2, y2, '.', color='red', markersize=2)\n",
    "plt.show"
   ]
  },
  {
   "cell_type": "code",
   "execution_count": 7,
   "metadata": {},
   "outputs": [],
   "source": [
    "# learning rate\n",
    "learning_rate = 0.1\n",
    "# Number of times to repeat learning\n",
    "training_epochs = 1000"
   ]
  },
  {
   "cell_type": "code",
   "execution_count": 8,
   "metadata": {},
   "outputs": [],
   "source": [
    "# Placeholder with x-coordinates\n",
    "X1 = tf.placeholder(tf.float32, shape=[None], name=\"x1\")\n",
    "# Placeholder with y-coordinates\n",
    "X2 = tf.placeholder(tf.float32, shape=[None], name=\"x2\")\n",
    "# Placeholder with correct answer data\n",
    "T = tf.placeholder(tf.float32, shape=[None], name=\"y\")\n",
    "# Variables with bias and weights\n",
    "w = tf.Variable([0., 0., 0.], name=\"w\", trainable=True)"
   ]
  },
  {
   "cell_type": "code",
   "execution_count": 9,
   "metadata": {},
   "outputs": [],
   "source": [
    "# Node that executes a sigmoidal function\n",
    "model = tf.sigmoid(-(w[0] + w[1]*X1 + w[2]*X2))\n",
    "# Node of the cross entropy error function\n",
    "cost = -tf.reduce_mean(T*tf.log(model + 1e-7) + (1 - T)*tf.log(1 - model))"
   ]
  },
  {
   "cell_type": "code",
   "execution_count": 10,
   "metadata": {},
   "outputs": [],
   "source": [
    "# solving a minimization problem\n",
    "train_op = tf.train.GradientDescentOptimizer(learning_rate).minimize(cost)\n",
    "# initialization node\n",
    "init_op = tf.global_variables_initializer()"
   ]
  },
  {
   "cell_type": "code",
   "execution_count": 11,
   "metadata": {},
   "outputs": [
    {
     "name": "stdout",
     "output_type": "stream",
     "text": [
      " ( 100 )  err=  0.4111176  [ 0.0013448596 ] \n",
      " ( 200 )  err=  0.31500524  [ 0.0006861985 ] \n",
      " ( 300 )  err=  0.2621953  [ 0.0004080832 ] \n",
      " ( 400 )  err=  0.2290965  [ 0.0002695918 ] \n",
      " ( 500 )  err=  0.20641205  [ 0.00019158423 ] \n",
      " ( 600 )  err=  0.18986468  [ 0.00014340878 ] \n",
      " ( 700 )  err=  0.1772341  [ 0.000111579895 ] \n",
      " ( 749 )  err=  0.17206997  [ 9.9763274e-05 ] \n"
     ]
    }
   ],
   "source": [
    "with tf.Session() as sess:\n",
    "    sess.run(init_op)\n",
    "    prev_err = 0\n",
    "    \n",
    "    # Repeat learning\n",
    "    for epoch in range(training_epochs):\n",
    "        \n",
    "        # Calculation of error\n",
    "        err, _ = sess.run([cost, train_op], feed_dict={X1: x_sum, X2: y_sum, T: t})\n",
    "        epoch +=1\n",
    "        \n",
    "        if epoch % 100 == 0:\n",
    "            print(' (', epoch, ') ', 'err= ', err, ' [', prev_err - err, '] ')\n",
    "        if abs(prev_err - err) < 0.0001:\n",
    "            print(' (', epoch, ') ', 'err= ', err, ' [', prev_err - err, '] ')\n",
    "            break\n",
    "            \n",
    "        # Error Update\n",
    "        prev_err = err\n",
    "        \n",
    "    # Get a weight value\n",
    "    w_val = sess.run(w, feed_dict={X1: x_sum, X2: y_sum, T: t})"
   ]
  },
  {
   "cell_type": "code",
   "execution_count": 12,
   "metadata": {},
   "outputs": [
    {
     "data": {
      "text/plain": [
       "<function matplotlib.pyplot.show(*args, **kw)>"
      ]
     },
     "execution_count": 12,
     "metadata": {},
     "output_type": "execute_result"
    },
    {
     "data": {
      "image/png": "[encoded data removed]",
      "text/plain": [
       "<Figure size 432x288 with 1 Axes>"
      ]
     },
     "metadata": {
      "needs_background": "light"
     },
     "output_type": "display_data"
    }
   ],
   "source": [
    "x_test = np.linspace(0, 10, 20)\n",
    "\n",
    "# Plotting the boundaries\n",
    "plt.plot(x_test,\n",
    "            -(w_val[0] + w_val[1]*x_test) / w_val[2],\n",
    "            color='orange', \n",
    "            linewidth=2)\n",
    "\n",
    "plt.plot(x1, y1, '.', color='blue', markersize=2)\n",
    "plt.plot(x2, y2, '.', color='red', markersize=2)\n",
    "plt.show"
   ]
  },
  {
   "cell_type": "code",
   "execution_count": null,
   "metadata": {},
   "outputs": [],
   "source": []
  }
 ],
 "metadata": {
  "kernelspec": {
   "display_name": "Python 3",
   "language": "python",
   "name": "python3"
  },
  "language_info": {
   "codemirror_mode": {
    "name": "ipython",
    "version": 3
   },
   "file_extension": ".py",
   "mimetype": "text/x-python",
   "name": "python",
   "nbconvert_exporter": "python",
   "pygments_lexer": "ipython3",
   "version": "3.6.9"
  }
 },
 "nbformat": 4,
 "nbformat_minor": 2
}
